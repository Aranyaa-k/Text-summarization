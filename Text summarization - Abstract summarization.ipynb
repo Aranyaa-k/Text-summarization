{
 "cells": [
  {
   "cell_type": "markdown",
   "id": "dbb17743",
   "metadata": {},
   "source": [
    "# Text Summarization - Abstractive summarization"
   ]
  },
  {
   "cell_type": "markdown",
   "id": "8441acb4",
   "metadata": {},
   "source": [
    "## Feedback given for previous review"
   ]
  },
  {
   "cell_type": "markdown",
   "id": "69889e9d",
   "metadata": {},
   "source": [
    "- Perform abstractive summarization - using hugging face\n",
    "- Semantic preservation - how do you know if the summary is good enough?\n",
    "- Try new ways to summarize text instead of method used"
   ]
  },
  {
   "cell_type": "markdown",
   "id": "118fea94",
   "metadata": {},
   "source": [
    "## Response to feedback"
   ]
  },
  {
   "cell_type": "markdown",
   "id": "11f37d99",
   "metadata": {},
   "source": [
    "- Two ways have been implemnted to perform abstractive summarization\n",
    "- Metrics for summarization - using rogue_score (Semantic preservation)\n",
    "- Summarization pipeline has been implemented keeping in mind the size of input text. Techniques implemented here are for larger input text.\n",
    "    - Text has been taken directly from a webpage and preprocessing is done to scrape the text instead of copy pasting "
   ]
  },
  {
   "cell_type": "markdown",
   "id": "ad462168",
   "metadata": {},
   "source": [
    "## Installing/ Importing dependencies"
   ]
  },
  {
   "cell_type": "code",
   "execution_count": 1,
   "id": "345a7c06",
   "metadata": {
    "collapsed": true
   },
   "outputs": [
    {
     "name": "stdout",
     "output_type": "stream",
     "text": [
      "Requirement already satisfied: transformers in d:\\anaconda\\lib\\site-packages (4.20.1)\n",
      "Requirement already satisfied: pyyaml>=5.1 in d:\\anaconda\\lib\\site-packages (from transformers) (6.0)\n",
      "Requirement already satisfied: tqdm>=4.27 in d:\\anaconda\\lib\\site-packages (from transformers) (4.62.3)\n",
      "Requirement already satisfied: huggingface-hub<1.0,>=0.1.0 in d:\\anaconda\\lib\\site-packages (from transformers) (0.8.1)\n",
      "Requirement already satisfied: tokenizers!=0.11.3,<0.13,>=0.11.1 in d:\\anaconda\\lib\\site-packages (from transformers) (0.12.1)\n",
      "Requirement already satisfied: filelock in d:\\anaconda\\lib\\site-packages (from transformers) (3.3.1)\n",
      "Requirement already satisfied: regex!=2019.12.17 in d:\\anaconda\\lib\\site-packages (from transformers) (2021.8.3)\n",
      "Requirement already satisfied: packaging>=20.0 in d:\\anaconda\\lib\\site-packages (from transformers) (21.0)\n",
      "Requirement already satisfied: numpy>=1.17 in d:\\anaconda\\lib\\site-packages (from transformers) (1.20.3)\n",
      "Requirement already satisfied: requests in d:\\anaconda\\lib\\site-packages (from transformers) (2.26.0)\n",
      "Requirement already satisfied: typing-extensions>=3.7.4.3 in d:\\anaconda\\lib\\site-packages (from huggingface-hub<1.0,>=0.1.0->transformers) (3.10.0.2)\n",
      "Requirement already satisfied: pyparsing>=2.0.2 in d:\\anaconda\\lib\\site-packages (from packaging>=20.0->transformers) (3.0.4)\n",
      "Requirement already satisfied: colorama in d:\\anaconda\\lib\\site-packages (from tqdm>=4.27->transformers) (0.4.4)\n",
      "Requirement already satisfied: charset-normalizer~=2.0.0 in d:\\anaconda\\lib\\site-packages (from requests->transformers) (2.0.4)\n",
      "Requirement already satisfied: certifi>=2017.4.17 in d:\\anaconda\\lib\\site-packages (from requests->transformers) (2021.10.8)\n",
      "Requirement already satisfied: idna<4,>=2.5 in d:\\anaconda\\lib\\site-packages (from requests->transformers) (3.2)\n",
      "Requirement already satisfied: urllib3<1.27,>=1.21.1 in d:\\anaconda\\lib\\site-packages (from requests->transformers) (1.26.7)\n",
      "Requirement already satisfied: rouge_score in d:\\anaconda\\lib\\site-packages (0.0.4)\n",
      "Requirement already satisfied: nltk in d:\\anaconda\\lib\\site-packages (from rouge_score) (3.6.5)\n",
      "Requirement already satisfied: numpy in d:\\anaconda\\lib\\site-packages (from rouge_score) (1.20.3)\n",
      "Requirement already satisfied: six>=1.14.0 in d:\\anaconda\\lib\\site-packages (from rouge_score) (1.16.0)\n",
      "Requirement already satisfied: absl-py in d:\\anaconda\\lib\\site-packages (from rouge_score) (1.1.0)\n",
      "Requirement already satisfied: click in d:\\anaconda\\lib\\site-packages (from nltk->rouge_score) (8.0.3)\n",
      "Requirement already satisfied: joblib in d:\\anaconda\\lib\\site-packages (from nltk->rouge_score) (1.1.0)\n",
      "Requirement already satisfied: regex>=2021.8.3 in d:\\anaconda\\lib\\site-packages (from nltk->rouge_score) (2021.8.3)\n",
      "Requirement already satisfied: tqdm in d:\\anaconda\\lib\\site-packages (from nltk->rouge_score) (4.62.3)\n",
      "Requirement already satisfied: colorama in d:\\anaconda\\lib\\site-packages (from click->nltk->rouge_score) (0.4.4)\n",
      "Requirement already satisfied: datasets in d:\\anaconda\\lib\\site-packages (2.3.2)\n",
      "Requirement already satisfied: pyarrow>=6.0.0 in d:\\anaconda\\lib\\site-packages (from datasets) (8.0.0)\n",
      "Requirement already satisfied: aiohttp in d:\\anaconda\\lib\\site-packages (from datasets) (3.8.1)\n",
      "Requirement already satisfied: packaging in d:\\anaconda\\lib\\site-packages (from datasets) (21.0)\n",
      "Requirement already satisfied: responses<0.19 in d:\\anaconda\\lib\\site-packages (from datasets) (0.18.0)\n",
      "Requirement already satisfied: requests>=2.19.0 in d:\\anaconda\\lib\\site-packages (from datasets) (2.26.0)\n",
      "Requirement already satisfied: huggingface-hub<1.0.0,>=0.1.0 in d:\\anaconda\\lib\\site-packages (from datasets) (0.8.1)\n",
      "Requirement already satisfied: pandas in d:\\anaconda\\lib\\site-packages (from datasets) (1.3.4)\n",
      "Requirement already satisfied: dill<0.3.6 in d:\\anaconda\\lib\\site-packages (from datasets) (0.3.5.1)\n",
      "Requirement already satisfied: tqdm>=4.62.1 in d:\\anaconda\\lib\\site-packages (from datasets) (4.62.3)\n",
      "Requirement already satisfied: numpy>=1.17 in d:\\anaconda\\lib\\site-packages (from datasets) (1.20.3)\n",
      "Requirement already satisfied: xxhash in d:\\anaconda\\lib\\site-packages (from datasets) (3.0.0)\n",
      "Requirement already satisfied: multiprocess in d:\\anaconda\\lib\\site-packages (from datasets) (0.70.13)\n",
      "Requirement already satisfied: fsspec[http]>=2021.05.0 in d:\\anaconda\\lib\\site-packages (from datasets) (2021.10.1)\n",
      "Requirement already satisfied: pyyaml>=5.1 in d:\\anaconda\\lib\\site-packages (from huggingface-hub<1.0.0,>=0.1.0->datasets) (6.0)\n",
      "Requirement already satisfied: typing-extensions>=3.7.4.3 in d:\\anaconda\\lib\\site-packages (from huggingface-hub<1.0.0,>=0.1.0->datasets) (3.10.0.2)\n",
      "Requirement already satisfied: filelock in d:\\anaconda\\lib\\site-packages (from huggingface-hub<1.0.0,>=0.1.0->datasets) (3.3.1)\n",
      "Requirement already satisfied: pyparsing>=2.0.2 in d:\\anaconda\\lib\\site-packages (from packaging->datasets) (3.0.4)\n",
      "Requirement already satisfied: idna<4,>=2.5 in d:\\anaconda\\lib\\site-packages (from requests>=2.19.0->datasets) (3.2)\n",
      "Requirement already satisfied: certifi>=2017.4.17 in d:\\anaconda\\lib\\site-packages (from requests>=2.19.0->datasets) (2021.10.8)\n",
      "Requirement already satisfied: charset-normalizer~=2.0.0 in d:\\anaconda\\lib\\site-packages (from requests>=2.19.0->datasets) (2.0.4)\n",
      "Requirement already satisfied: urllib3<1.27,>=1.21.1 in d:\\anaconda\\lib\\site-packages (from requests>=2.19.0->datasets) (1.26.7)\n",
      "Requirement already satisfied: colorama in d:\\anaconda\\lib\\site-packages (from tqdm>=4.62.1->datasets) (0.4.4)\n",
      "Requirement already satisfied: frozenlist>=1.1.1 in d:\\anaconda\\lib\\site-packages (from aiohttp->datasets) (1.3.0)\n",
      "Requirement already satisfied: attrs>=17.3.0 in d:\\anaconda\\lib\\site-packages (from aiohttp->datasets) (21.2.0)\n",
      "Requirement already satisfied: aiosignal>=1.1.2 in d:\\anaconda\\lib\\site-packages (from aiohttp->datasets) (1.2.0)\n",
      "Requirement already satisfied: async-timeout<5.0,>=4.0.0a3 in d:\\anaconda\\lib\\site-packages (from aiohttp->datasets) (4.0.2)\n",
      "Requirement already satisfied: multidict<7.0,>=4.5 in d:\\anaconda\\lib\\site-packages (from aiohttp->datasets) (6.0.2)\n",
      "Requirement already satisfied: yarl<2.0,>=1.0 in d:\\anaconda\\lib\\site-packages (from aiohttp->datasets) (1.7.2)\n",
      "Requirement already satisfied: python-dateutil>=2.7.3 in d:\\anaconda\\lib\\site-packages (from pandas->datasets) (2.8.2)\n",
      "Requirement already satisfied: pytz>=2017.3 in d:\\anaconda\\lib\\site-packages (from pandas->datasets) (2021.3)\n",
      "Requirement already satisfied: six>=1.5 in d:\\anaconda\\lib\\site-packages (from python-dateutil>=2.7.3->pandas->datasets) (1.16.0)\n"
     ]
    }
   ],
   "source": [
    "!pip install transformers\n",
    "!pip install rouge_score\n",
    "!pip install datasets"
   ]
  },
  {
   "cell_type": "code",
   "execution_count": 2,
   "id": "8ad0252e",
   "metadata": {},
   "outputs": [
    {
     "name": "stderr",
     "output_type": "stream",
     "text": [
      "[nltk_data] Downloading package punkt to\n",
      "[nltk_data]     C:\\Users\\arany\\AppData\\Roaming\\nltk_data...\n",
      "[nltk_data]   Package punkt is already up-to-date!\n"
     ]
    },
    {
     "data": {
      "text/plain": [
       "True"
      ]
     },
     "execution_count": 2,
     "metadata": {},
     "output_type": "execute_result"
    }
   ],
   "source": [
    "from transformers import pipeline\n",
    "from bs4 import BeautifulSoup\n",
    "import requests\n",
    "from datasets import load_metric\n",
    "from sumy.parsers.html import HtmlParser\n",
    "from sumy.nlp.tokenizers import Tokenizer\n",
    "from sumy.summarizers.text_rank import TextRankSummarizer\n",
    "import nltk\n",
    "nltk.download('punkt')"
   ]
  },
  {
   "cell_type": "markdown",
   "id": "2befb2ce",
   "metadata": {},
   "source": [
    "## Scraping input text from random webpages"
   ]
  },
  {
   "cell_type": "code",
   "execution_count": 10,
   "id": "29523c93",
   "metadata": {},
   "outputs": [],
   "source": [
    "#How to become an ethical hacker\n",
    "url1 = \"https://www.simplilearn.com/tutorials/cyber-security-tutorial/how-to-become-an-ethical-hacker\"\n",
    "\n",
    "#Pizza recipe - step by step guide\n",
    "url2 = \"https://www.indianhealthyrecipes.com/pizza-recipe-make-pizza/\"\n",
    "\n",
    "#Formation of the universe\n",
    "url3 = \"https://www.bbc.com/future/article/20140812-how-was-the-universe-created\""
   ]
  },
  {
   "cell_type": "code",
   "execution_count": 11,
   "id": "e4ae1111",
   "metadata": {},
   "outputs": [],
   "source": [
    "r1 = requests.get(url1)\n",
    "#r2 = requests.get(url2)\n",
    "#r3 = requests.get(url3)"
   ]
  },
  {
   "cell_type": "code",
   "execution_count": 2,
   "id": "f7d750b2",
   "metadata": {},
   "outputs": [],
   "source": [
    "def ScrapeText(raw_text, r):\n",
    "    soup = BeautifulSoup(r.text, 'html.parser')\n",
    "    results = soup.find_all(['h1', 'p'])\n",
    "    text = [result.text for result in results]\n",
    "    text = ' '.join(text)\n",
    "    return text"
   ]
  },
  {
   "cell_type": "code",
   "execution_count": 13,
   "id": "910ae8a0",
   "metadata": {},
   "outputs": [],
   "source": [
    "# for method 1\n",
    "article1 = ScrapeText(url1,r1)\n",
    "#article2 = ScrapeText(url2,r2)\n",
    "#article3 = ScrapeText(url3,r3)"
   ]
  },
  {
   "cell_type": "code",
   "execution_count": 67,
   "id": "639c9a14",
   "metadata": {},
   "outputs": [],
   "source": [
    "input_text = '''A glimpse of the IoT may be already visible in current\n",
    "deployments where networks of sensing devices are being\n",
    "interconnected with the Internet, and IP-based standard technologies will be fundamental in providing a common and wellaccepted ground for the development and deployment of new\n",
    "IoT applications. Considering that security may be an enabling\n",
    "factor of many of such applications, mechanisms to secure\n",
    "communications using communication technologies for the IoT\n",
    "will be fundamental. With such aspects in mind, in the survey\n",
    "we perform an exhaustive analysis on the security protocols\n",
    "and mechanisms available to protect communications on the\n",
    "IoT. We also address existing research proposals and challenges\n",
    "providing opportunities for future research work in the area.\n",
    "In Table II we summarize the main characteristics of the\n",
    "mechanisms and proposals analyzed throughout the survey,\n",
    "together with its operational layer and the security properties\n",
    "and functionalities supported. In conclusion, we believe this\n",
    "survey may provide an important contribution to the research\n",
    "community, by documenting the current status of this important\n",
    "and very dynamic area of research, helping readers interested in\n",
    "developing new solutions to address security in the context of\n",
    "communication protocols for the IoT.\n",
    "'''"
   ]
  },
  {
   "cell_type": "code",
   "execution_count": 15,
   "id": "6fdce423",
   "metadata": {},
   "outputs": [],
   "source": [
    "summary_input_text = '''The German Johannes Gutenberg introduced printing in Europe. \n",
    "His invention had a decisive contribution in spread of mass-learning and in building the basis of the modern society.\n",
    "\n",
    "Gutenberg major invention was a practical system permitting the mass production of printed books. \n",
    "The printed books allowed open circulation of information, and prepared the evolution of society from to the contemporary knowledge-based economy.'''"
   ]
  },
  {
   "cell_type": "code",
   "execution_count": 25,
   "id": "8665d739",
   "metadata": {
    "collapsed": true
   },
   "outputs": [
    {
     "data": {
      "text/plain": [
       "'                                 How to Become an Ethical Hacker in 2022? Lesson 7 of 32By Rahul Venugopal                                  The word â\\x80\\x98hacker\\' originally defined a skilled programmer proficient in machine code and computer operating systems. Today, a \\'hacker\\' is a person who consistently engages in hacking activities, and has accepted hacking as a lifestyle and philosophy of their choice. Hacking is the practice of modifying the features of a system, to accomplish a goal outside of the creator\\'s original purpose. Before understanding how to become an ethical hacker, let us understand more about the role. The term â\\x80\\x98hackingâ\\x80\\x99 has very negative connotations, but that\\'s only until the role of an ethical hacker is fully understood. Ethical hackers are the good guys of the hacking world, the ones who wear the \"white hat\". So what does the role of an ethical hacker entail? Instead of using their advanced computer knowledge for nefarious activities, ethical hackers identify weaknesses in data computer security for business and organizations across the globe, to protect them from hackers with less honest motives. Before understanding how to become an ethical hacker, let us understand what is the ethical hacking career. PGP  in Cyber Security With Modules From MIT SCCYour Cyber Security Career Success Starts Here!View Course If youâ\\x80\\x99re a professional who appreciates the joys of the world of computers and relishes a challenge, then a career in ethical hacking can be an enticing prospect. You get the opportunity to use your skills to break into computer systems, and you get paid good money for doing so. Like many careers, it is not easy to get started in the field, but if you put in the effort, initially, you will be able to shape a very lucrative career for yourself. Besides, ethical hackers are always on the right side of the law! Let us learn how to become an ethical hacker after looking into the stages in the career of an ethical hacker. The open-source operating systemâ\\x80\\x94 LINUX/UNIX, ensures better security for computer systems. As an ethical hacker, you should be well-versed with LINUX as it is one of the widely used operating systems for hacking. It provides ample tools for hackers. Some common Linux distributions include Red Hat Linux, Ubuntu, Kali Linux, BackTrack, and more. Among these, Kali Linux is the most popular Linux system specially customized for the purpose of hacking. One of the most primitive programming languages, C is also referred to as the mother of all programming languages. This programming language forms the base of learning UNIX/LINUX because this operating system is written completely in C. So, hackers must master C programming as it gives them the power to utilize the open-source operating system Linux the way they desire.Â\\xa0 Try to learn more than one programming language to get the upper hand. An ethical hacker with sound knowledge of two to three programming languages can dissect and analyze a piece of code. Some of the best programming languages for hackers are: The most important step for ethical hacking is to learn how to be anonymous and hide your identity online so that there is no trace left and none can backtrace you. Often an ethical hacker might not know who else is in the same network, and if a Black hat hacker figures out that there is someone else in the network, they might try to hack their system. Thus, anonymity is vital for ethical hackers as well. Using Anonsurf, Proxychains, and MacChanger are the three most promising ways to safeguard your identity.Â\\xa0Â\\xa0 Knowing networking concepts and how they are created is vital for ethical hackers. Getting well-versed in various networks and protocols is beneficial in exploiting vulnerabilities. An ethical hacker with in-depth knowledge of networking tools such as Nmap, Wireshark, and others can survive the challenges in the field. Some important networking concepts are: The part of the internet that remains hidden or is not visible to search engines is called the dark web. It requires special authorization or software for access. An anonymizing browser called Tor can provide access to the dark web. It is the hotbed of criminal activity, but not everything is illegal on the dark web. It also has a legitimate side, and ethical hackers must learn about the dark web and how it works. Cryptography or secret writing is an important asset for an ethical hacker. The art of encryption and decryption is a must in hacking. Encryption finds usage in several aspects of information security, such as authentication, data integrity, confidentiality, and more. Valuable information is always encrypted on a network, such as passwords. A hacker must learn how to identify the encryption and break it. Once you are thorough with the topics covered so far, dive deep into hacking concepts and learn topics like SQL injections, penetration testing, vulnerability assessment, and more. Stay updated on the latest security changes in the system and the latest tools and ways for hacking and securing a system. Vulnerabilities are weaknesses or loopholes in the system. Learn to scan systems and networks for loopholes that can lead to a security breach. Ethical hackers can also try to write their vulnerabilities and exploit the system. Some vulnerability identification tools in the Kali Linux OS are as follows: Practicing and experimenting are the keys to success in the field of hacking. Ethical hackers need to practice the learnt concepts in various environments and scenarios. Test various attacks, tools, and more. Make a community or join forums for discussions with other hackers worldwide to exchange and share knowledge and work together. There are several communities on Discord, Facebook, Telegram, and more platforms. Patience is a skill you need to cultivate if you want to embark on a career as an ethical hacker. You can\\'t expect to secure an exceptionally high ranking job and earn a large salary right from the beginning, but there is immense potential to achieve both in a short span of time! Many ethical hackers start out by obtaining a computer science degree. You also have the option of obtaining an A+ certification (CompTIA) that requires taking & clearing two separate exams. These exams test an individual\\'s knowledge of the components of a Personal Computer and their ability to take a PC apart and re-build it. To take the test for the qualification, you are expected to possess at least 500 hours of practical computing experience. At this level of your career, you can expect to earn an average salary of $44,000 per year. Before you can advance in your career, however, you need to gain experience and gain a Network+ or CCNA qualification. The Network+ certification validates foundation-level knowledge in networks, including management, maintenance, installation, and troubleshooting. The CCNA qualification ensures the same abilities and aims at foundation-level expertise. Once you are qualified, you can embark on the next stage of your career, in network support. Here, you will undertake activities like monitoring and updating, installing security programs, and testing for weaknesses. You will gain experience in the field of network security, and your aim should be to secure a position as a network engineer. After gaining experience working in network support, you can hope to earn in the $60,000-65,000 range! You will now be designing and planning networks instead of just supporting them. From now on, your journey towards becoming an ethical hacker should have you concentrate on the Security aspect. Now is the time when you need to be working towards obtaining a certification in security, such as Security+, CISSP, or TICSA, for example. The Security+ accreditation is approved by the US Department of Defense and includes the testing of such vital topics as access control, identity management, and cryptography.CISSP is a globally recognized security qualification that attests to knowledge in risk management, cloud computing, and application development. Testing for the TICSA qualification covers the same areas and is aimed at the same level of security understanding. Gaining this experience and the accreditation should be sufficient to help you secure a role in information security. FREE Course: Introduction to Cyber SecurityLearn and master the basics of cybersecurityStart Learning This is a major step on the ladder to becoming an ethical hacker as, for the first time, you are dealing with Information Security itself! The average salary for someone in this role is $69,000. An information security analyst examines the system and network security, deals with security breaches, and works toward putting security measures in place. For this role, you should concentrate on penetration testing so as to get hands-on experience of some of the tools of the trade.At this point in your career, you should be aiming at getting a Certified Ethical Hacker (CEH) certification from the International Council of Electronic Commerce Consultants (the EC Council). The training you receive will take you through everything you need to know to become an efficient, ethical hacker. You will be completely immersed in a hands-on environment where you are taken through the process of hacking into a network and identifying any security problems that exist. Once you have gained this certification, you can start marketing yourself as a professional ethical hacker. Let us learn how to become an ethical hacker after understanding what are the expectations of the job. Before understanding how to become an ethical hacker, let us understand the outlook for ethical hackers. Once you have embarked on a role as an ethical hacker, you will put all your technical and security expertise into trying to breach the network security of the business or organization that has hired you. The business will require a detailed analysis of your findings and your suggestions for the improvement of its network security. This work protects them from the hacking activities of those with illegitimate and illegal motives. The average salary you can expect as an ethical hacker is $71,000, with bonus payments often amounting to $15,000 - $20,000. Ethical hackers must get familiar with vulnerability testing tools such as Metasploit, OpenVAS and Nessus as they provide a worthwhile framework for scanning and managing vulnerabilities. Move on to simulated manual attacks directed toward the target for practicing ethical hacking.Â\\xa0 Pursuing a career as an ethical hacker usually begins as a member of an organization\\'s security team extending defensive security services. Proficiency and good performance can lead to a higher position as an ethical hacker through the ranks of the department:Â\\xa0 security specialist â\\x86\\x92 security administrator â\\x86\\x92 security software developer Knowledge of social engineering and physical penetration tests helps understand the threatscape, reach top positions, and acquire experience. Several attacks begin with intel gathered via extended social engineering campaigns.Â\\xa0 The responsibilities of ethical hackers vary for different companies, but the basic hacking assignments nearly remain the same.Â\\xa0 Optimizing network security by vulnerability identification and determination of countermeasures for preventing an attack or mitigating its effects on the system is called threat modeling.Â\\xa0 A threat is an actual or potential adverse event compromising the organization\\'s assets. An ethical hacker\\'s responsibility is to provide a comprehensive view of the potential malicious attacks and their possible consequences.Â\\xa0 Thread modeling aims to draw conclusions on what areas demand the greatest focus to keep a system secure. This iterative process comprises defining assets, creating a security profile for every application, potential threat identification and prioritization, and documentation of adverse actions and events in each case. An ethical hacker provides an information security assessment or a risk-based measurement of an enterprise\\'s security. These periodic exercises test security preparedness, check for IT system vulnerabilities, and recommend measures to lower future attack risks.Â\\xa0 They also determine how well security-related policies are followed, culminating in a report comprising identified weaknesses and suitable recommendations.Â\\xa0 VTAs are for identifying, quantifying, and ranking the vulnerabilities of a system and the threats that could exploit them, thus correlating the two.Â\\xa0 Vulnerability threat assessments are highly recommended for information technology, water supply, energy supply, transportation, and communication systems. The assessments can be conducted on behalf of several organizations, ranging from small businesses to regional or national entities.Â\\xa0 Ethical writers must possess the ability to write clear and precise professional reports by efficiently collecting data, identifying vulnerabilities, and correlating threats. These reports are often the impetus for finalizing security resource expenditures.Â\\xa0 The most crucial requirement for becoming a successful ethical hacker is high ethical standards that differentiate you from black hat hackers. Other important hacking skills are: Ethical hackers can begin with Python if they do not know any programming languages. Python is well-designed, well documented, and easier for beginners. It is powerful and flexible for large projects.Â\\xa0 Those who prefer Java must learn C and Lisp first to develop a better command of the programming language. C is the core language of Unix, and C++ is very closely related to C. So, learning one will make the other easier.Â\\xa0 The following roadmap helps in learning how to program: The initial steps any beginner can take towards acquiring hacking skills are: Although there are other operating systems besides Unix, they are distributed in binary, and one cannot read or modify the code in a closed-source OS, such as in Microsoft Windows. So, Unix is best for sharpening ethical hacking skills.Â\\xa0 Learn how to write the Web\\'s markup language- HTML. Writing HTML also helps those who don\\'t know how to program. Begin by building a home page and work your way up by adding some content that makes it interesting and useful to other hackers.Â\\xa0 You can open the page source information in your browser to view the HTML and refer to it as an example. In Firefox, go to Web Developer > Page Source and study the code. HTML can be written in a basic word processing program such as Notepad or Simple Text. Save your files as \"FileName.HTML\" and upload them to a browser to see your work translated. English is an important working language of hacker culture and the Internet. Ethical hackers must master English to function in the hacker community. Cyberwarfare is extremely common, and many high profile enterprises have been subject to major hacking issues. In this day and age, spending on IT security on a global scale is reaching the trillion-dollar mark. What better way to combat the threat of black-hat hacking than by making use of an army of white-hat hackers? The demand for ethical hackers is at an all-time high and rising. Many experienced, ethical hackers can expect to earn in excess of $120,000 per year, especially if they are running their own consultancies or penetration testing companies! All set to become an Ethical Hacker?  Rahul Venugopal is a Senior Product Manager with over six years of experience in Digital Marketing, Growth Hacking, and Mobile-App based marketing. He specializes in Online User Behaviour Analysis and Creative and Campaign Optimization. Post Graduate Program in Cyber Security  CEH (v11)- Certified Ethical Hacker  Introduction to Cyber Security  *Lifetime access to high-quality, self-paced e-learning content. Cyber Security for Beginners An Introduction to Cyber Security: A Beginner\\'s Guide Introducing the Post Graduate Program in Cyber Security Program Preview: A Live Look at the Post Graduate Program in AI and Machine Learning Top 6 Cyber Security Jobs in 2021 How to Build an Enterprise Cyber Security Framework Â© 2009 -2022- Simplilearn Solutions Follow us! Company Work with us Discover For Businesses Learn On the Go! Trending Post Graduate Programs Trending Master Programs Trending Courses Trending Resources'"
      ]
     },
     "execution_count": 25,
     "metadata": {},
     "output_type": "execute_result"
    }
   ],
   "source": [
    "article1"
   ]
  },
  {
   "cell_type": "code",
   "execution_count": 26,
   "id": "eb29d8eb",
   "metadata": {
    "collapsed": true
   },
   "outputs": [
    {
     "data": {
      "text/plain": [
       "\"Swasthi's Recipes Indian food blog with easy Indian recipes Pizza recipe | How to make pizza | Homemade pizza recipe By swasthi, November 25, 2020 188 Comments, Jump to Recipe Pizza recipe with video – Learn to make pizza at home like a pro with these simple step by step instructions. This detailed post will help you make the best pizza which I am sure will be your family favorite. This pizza has a crisp, light & chewy base with great flavor (no overpowering smell of yeast!!). The sauce is amazingly delicious & aromatic. So this post covers everything from scratch –\\xa0making the pizza dough, making the sauce and assembling the pizza. Making a delicious and perfect cheesy pizza at home is much simpler than we think. There are numerous recipes online to make it but over the years this easy recipe has become our family favorite. Try this and you will never want to order a pizza again. You will be in love with your homemade pizza!! During my initial days of learning I followed a basic recipe from Bob’s red mill for the pizza base which turned out to be good. After making it time and again for many years this basic pizza recipe got a makeover. I learnt a lot of tricks & techniques to make the best at home with little effort. So I thought of updating this post with better and detailed instructions along with many tips. This pizza recipe consists of 3 sections So what’s new in my updated pizza recipe? Apart from the above, I have also shared how to make pizza dough with less yeast following the slow rise method. This also imparts more flavour & gives a better crust. After I made this a lot of times I realized less yeast and longer rise is the secret to the most delicious & flavourful pizza crust. Plus it is healthier as the dough ferments longer and is easier to digest. This is a very old post on the blog which has been tried and loved by many of you. So I haven’t changed a thing in this pizza recipe. Instead I have updated this slow rise method as an option in the instructions. Related recipes you may likeCheese BallsCheese sandwichVeg burgerMasala pastaSandwich recipes  1. Bring yeast, flour and sugar (or maple syrup) to room temperature. I generally keep all of these out of the fridge an hour before making the dough. 2. Firstly pour half cup luke warm water to a large mixing bowl. Dip your finger in the water to check if it is just warm & not hot. Hot water will kill the yeast and won’t let the pizza dough rise. An ideal temperature of water is 40 to 43 C – 105 to 110 F. If you live in a very cold place, just warm up your bowl first. Next pour warm water. 3. Add 1 teaspoon yeast (3 grams) to the warm water. You can use instant yeast or active yeast. More details in the tips section below. If you prefer to go with low yeast and let it rise slowly, then add only 1/3 teaspoon yeast (1 gram). 4. Add 1 teaspoon raw sugar or maple syrup. Avoid using refined white sugar. 5. Stir it gently. Allow this to rest undisturbed for 10 to 12 minutes. 6. The mixture must turn frothy and bubbly. With instant yeast it won’t turn very frothy but will still froth to a minimum and you can see the yeast bubbling up.  If you fail to get a frothy mixture, do not proceed further with this yeast. It is inactive. So just discard this. Start again with fresh warm water, yeast and sugar. Repeat the steps from 1 to 4. 7. When the yeast turns frothy, add 2½ cups flour (300 grams), ⅓ teaspoon salt and 1½ tablespoon olive oil to the mixing bowl. Here I have used organic unbleached all-purpose flour. You can also use 1 cup all-purpose flour and 1½ cup fine wheat flour. 8. Mix all of them to form a dough. You will need more water (about 2 to 3 tbsps) so add accordingly a little at a time until it forms a smooth and soft non-sticky dough. If the dough is sticky then you may sprinkle some flour. 9. Knead the dough for 5 mins. Use the heel of your hand to press down the dough against the kitchen counter/worktop and roll the pizza dough across. Next fold it. Repeat this for a 4 to 5 minutes. At the end pizza dough should be soft and when you poke it with your finger, it should dent and bounce back slowly. This is the indication of the dough being ready. 10. Shape it to form a ball and apply a thin layer of oil to prevent the dough from drying up. Also grease your bowl with some oil. 11. Cover the bowl with a moist napkin or lid. Rest at room temperature until the dough rises and doubles in size. An ideal temperature for rising dough is 26 C (80 F) to 32 C (90 F). Depending on the temperature, the dough may take anywhere from 1 to 4 hours. I advise not to go by timings but to let it double in size. With low yeast, I let it proof for about 8 hours near the window avoiding direct sun. During colder days, leave it overnight in a warm place. If you live in a cold country, then you can proof the dough in the instant pot with yogurt settings (LOW). 12. To begin with puree 400 to 500 grams of tomatoes in a blender. Heat 1 ½ tablespoons oil in a pan and add 2 finely chopped garlic cloves (about a tablespoon). Fry the garlic a bit until a nice aroma comes out for a minute. Then add 1 teaspoon red chilli flakes. 13. Pour the tomato puree. Add ¼ teaspoon salt and 1 teaspoon sugar. Give a good stir. 14. Cover the pot partially and simmer until the tomatoes cook down and reduce to a thick consistency. Be careful at this stage as the puree splashes a lot. Occasionally reduce the flame and give a good mix. 15. When the mixture thickens to a sauce like consistency, add 1 teaspoon Italian herbs and ½ teaspoon crushed pepper. Taste test this and add more herbs, pepper or salt as needed. 16. The consistency of the sauce has to be thick and of spreading consistency. It should not be runny otherwise the pizza will be soggy and wet beneath the cheese. Cool this completely and transfer to a jar if using it later. 17. When you are ready to make the pizza, prepare the veggies & grate the cheese. We prefer only onions, lots of bell peppers, mushrooms and olives. You can use whatever veggies you prefer. Keep the veggies at room temperature for a few hours so they don’t let out moisture on the pizza making it soggy. If using bottled olives drain them to a small strainer. 18. When the pizza dough doubles in size, it will look like this. With longer proofing the dough will have lots of air pockets and will rise more. 19. Transfer it to the work surface & punch it down to deflate and remove the air bubbles. 20. Divide to 2 to 3 parts depending on the size you prefer. 21. Knead a bit and shape them to round balls. If the dough is too sticky then sprinkle some flour & knead. I made one 9 inch thin crust and then two 6 inch thick crust pizzas. Alternately you can make three 9 inch thin crust or a single 14 inch thin crust pizza with this recipe. I made one pizza the same day and refrigerated the rest for the subsequent days. Just wrapped it in a cling wrap and put it in the fridge. The flavor of the yeast dough gets much better with cold fermentation as it ages in the fridge. This keeps good for 3 days. To use the refrigerated dough let it to come down to room temperature before using. This may take 2 to 4 hours depending on where you live.  22. When you see the dough has relaxed and is ready to be stretched, preheat the oven to the highest temperature, 220 to 240 C or 470F for at least 25 to 30 mins. Place a baking tray or a cast iron pan in the middle rack and heat it as well in the oven. This baking tray/cast iron pan will help to achieve a golden and crisp pizza crust. To use a pizza stone refer the faqs below. If the dough is too sticky then sprinkle some flour & knead. 23. Sprinkle some cornmeal evenly on a tray. Place a dough ball and flatten it with your fingers. Add few drops of oil.  Begin to spread and stretch the dough on the tray with your fingers. Flatten to a 9 inch thin even base. Keep the edges slightly thicker than the centre. I do not use a rolling pin as sometimes the pizza base turns out dense as the rolling pin deflates the air bubbles. 24. Next spread pizza sauce as desired.\\xa0 25. Lastly layer grated cheese. Then layer the veggies of your choice. Add more cheese on top avoiding the veggies. Sprinkle Italian herbs and chili flakes as preferred. 26. Transfer the pizza tray to the oven. Place it right over the hot baking tray/ cast iron pan in the preheated oven. Bake it for 8 to 10 minutes or until the cheese melts and the crust becomes golden and crisp. Adjust the baking time as needed. Let the temperature come down a bit and then slice it. Serve hot. 27. I also made two 6 inch thick crust personal pizzas. If making thick pizza base then, I stretch the dough first. You can also prick the base with a fork a few times (8 to 9 times) & bake it for 5 – 7 mins first. Then smear the sauce and layer the toppings. 28. Bake this for about 8 to 10 mins. If your cheese doesn’t get golden, you can move it to the top rack and bake for another 2 to 3 mins. Activate Yeast: Always activate yeast first before adding it to the flour. Usually instant yeast is added directly to the flour but you can also activate it the same way as active yeast. This way you will save your flour in case the instant yeast is dead. Avoid using a lot of yeast: Using lesser yeast is the secret to the best pizzas served in restaurants and pizzeria. Use less and give more time for the yeast to work well. This results in a better flavour & best tasting pizza crust. Let dough rise slowly at room temperature: Do not hasten to rise it quickly at higher temperature. Slow rise pizza dough acquires a unique flavour and better texture. Do not go by the time factor let it rise until it doubles. On colder days it takes longer. Bake thick crust base: If you are baking a thick crust pizza base in a small oven, then it is good to bake the pizza base first for 5 to 7 mins and then smear the sauce and top it with veggies & cheese. Then bake it to finish off. Most times a thick pizza base doesn’t get cooked well in smaller ovens while the cheese gets browned. Pizzas served in pizzerias are cooked in large wood fired ovens. These are very hot & mostly baked on pizza stones or baking stones hence the base gets cooked well. Health Note:\\xa0Do not use regular maida to make pizza. Regular maida is chemically bleached and has tons of adverse effects on our health. If you do not find organic or unbleached flour, just make the pizza with very fine quality whole wheat flour and make a thin crust pizza. It turns out very good that way too. What is the best flour for pizza dough? 00 flour is considered to be a gold standard for making Italian pizza. It is pricey in many countries and is not easily available. So many pizza pros use bread flour. However all-purpose flour is widely used by home cooks as it yields similar results. If you prefer to limit refined flour, you may use fine white wheat flour or 50% all-purpose flour & 50% whole wheat flour. But use organic flour or at least unbleached & unbromated flour. How long to knead pizza dough? 4 to 5 minutes of kneading the dough is good enough. But then everyone’s hand pressure is different so focus on the texture of the dough and not the time. Dough should be soft and when you press down it should dent and bounce back slowly. This is the indication of the dough being ready. Can you refrigerate pizza dough? Yes. After the dough rises, divide it to smaller portions as needed. Shape them to balls, cover and refrigerate. Refrigerate for 1 to 3 days. Bring it to room temperature before stretching it. Is it better to roll or stretch pizza dough? Rolling pin deflates the gas pockets in the dough and can make the pizza base denser. So pizza dough is always hand stretched. An easier way to stretch is to sprinkle some flour on a parchment paper or baking tray. Place the dough ball and drizzle little oil over it. Then stretch it using your fingers over the tray/ parchment paper. If you still want to use a rolling pin, then you may roll the dough until ¾ of the diameter. Then hand stretch the rest & create a border so it is not flat on the edges. Pizzerias use pizza stones which gives pizza the best crust. The next best choice is a cast iron griddle or a perforated pizza pan (crisper) which have holes in them. These allow heat to hit directly right at the bottom of the crust resulting in a crispier crust. These are better than the regular pans. I have shared a picture of perforated tray above. However a regular baking tray can also be used. If using a perforated pan, then stretch the pizza on a wooden board or parchment paper. Then transfer to the perforated pizza pan. How to cook pizza without oven? If you do not have an oven, you can bake the pizza in a pan on stovetop. For best results use less yeast (1/3 teaspoon for this recipe), follow the slow rise method to make the dough & bake it on a cast iron pan. To bake on stovetop, avoid using dough that has a lot of yeast in it as cooking on stovetop won’t yield the same results and your pizza will smell yeasty. For the step by step instructions to bake it on stovetop check out this stovetop tawa pizza without yeast. Preheat the oven with the pizza stone placed in the center of the oven. Set the oven temperature to the highest and preheat for at least 30 mins. While most experts suggest to preheat for an hour I do it only for 30 mins. Sprinkle a generous amount of cornmeal all over a wooden pizza peel. Place the dough ball on a parchment paper and drizzle some oil. Hand stretch it over the parchment paper. Gently remove it and place on the peel. Shake it gently to & fro to ensure it is not sticking to the peel. Then smear the sauce and dress up the pizza. Once you are done dressing it do not rest it on the peel. Ensure it goes right away into the oven over the hot stone. Take the pizza peel over to the other end of the stone & gently jerk/ jolt the pizza over the stone. If you have used the right amount of cornmeal it will slide almost effortlessly. Why is my dough sticking to the peel? Using the wrong peel is the most common cause. Use a wooden pizza peel. The second reason can be too much moisture in the dough. Why does my pizza smell or taste yeasty? Too much yeast in the dough, rising it at high temperature or rising it for too long at higher temperature can leave your pizza with a strong smell of yeast. Instead start with lower amount of yeast & let it rise slowly for longer until it doubles or triples. 26 C (80 F) to 32 C (90 F) is ideal temperature for rising. If the temperature is too high, dough rises too quickly not giving the yeast enough time to react. This may leave a strong smell of the yeast in the pizza even after baking it well. Related Recipes  For best results follow the step-by-step photos above the recipe card Alternative quantities provided in the recipe card are for 1x only, original recipe. For best results follow my detailed step-by-step photo instructions and tips above the recipe card.  © Swasthi’s Recipes  Check your inbox or spam folder to confirm your subscription.\\n           This Pizza recipe was first published in OCT, 2015. Republished in November 2020 with detailed instructions and better pictures. I’m Swasthi Shreekanth, the recipe developer, food photographer & food writer behind Swasthi's Recipes. My aim is to help you cook great Indian food with my time-tested recipes. After 2 decades of experience in practical Indian cooking I started this blog to help people cook better & more often at home. Whether you are a novice or an experienced cook I am sure Swasthi’s Recipes will assist you to enhance your cooking skills.\\nRead more.. \\nThe recipe turned out really perfect. I worked with yeast for the first time and had no confidence at all. But after seeing the result, I am really glad. Thanks \\nHi if i followed the low yeast method can I add 1 tsp of yeast for 600 grams of flour and can I add some more salt like 10 grams because the Pizza sauce is delicious and sweet it make my total pizza sweety I don’t like that so can I add some more salt can you say the exact quantity of salt  to cut off the sweetness of pizza \\nHi swasthi if I follow the low yeast method can I add 1 tsp of yeast for 600 grams flour and can I add some more salt like 10 grams \\nOk then can you say the quantity of water for 600 grams flour. And my oven’s max temperature is 230°C should preheat the oven with both top and bottom rods are any one is enough The quantity of water to use depends on the flour. Yes you have to heat both the rods. \\nHi followed the your recipe with same measurement pizza was good but the problem is after baking the Pizza the base was very very dry and hard can you say what to do Hi Adithya,\\nAccording to your previous comment on another post your yeast is expired. If so that is the reason. If the pizza dough did not double, it means the yeast did not work. In case if the dough doubled and still your pizza is dry, it has something to do with low hydration/ moisture levels in the dough. Try with more water. If this doesn’t work, your oven settings may be the problem. The oven has to be very hot and at high temperature. Baking at lower temperatures or baking with the fan ON, can dry out the pizza. Awesome recipes Swasthi! I want to try out the Low yeast dough and seems so interesting to me as we don’t like much yeast in our foods. Thanks to google for driving me here Hope you like it Nadia\\n🙂 \\nHi, Your recipes are so well written and reliable ..\\nThe pizza was wonderful, I’ll think twice before buying pizza now.\\nI’m hooked on to trying new recipes.\\nThank you.. Hi swasthi, When u don’t mention baking temperature does it mean it is same as the pre heating temperature? Hi Seema\\nYes it is the same. If there is a change I mention it. \\nOh ok… Thanks a lot. Btw your pizza sauce is way tastier than ready made sauces. Now we don’t order pizzas anymore ☺️ Your recipes are simply perfect. Glad to know Seema\\nThank you! \\nFentastics way to exclaims \\nTried the pizza sauce, it was awesome, thank you 😋😀 Glad to know Zainab Hi Swathi,\\nThis looks very tempting to try. So if i try the low yeast method, should i refrigerate the dough after the dough doubles in size?. Hope i understood correctly Thanks\\nMeera Hi Meera\\nYes you are right. \\nHi,\\nI have ordered pizza oregano and chilli flakes online I received today but the problem is I am fear to use it due to covid19 what should I do can I open the bottles and transfer to plate and sundry in sunlight for two days and use then is there any chance to covid19 will go and flavor will remain pls say me I am confused what to do! Hi Adithya,\\nNo you don’t need to fear so much. The herbs and chilli flakes are cooked down in the recipe, so you don’t need to worry at all. Use it directly from the bottle to sprinkle or measure and ensure you wash your hands well right away. Quarantine the bottles for 3 days before you move them to your kitchen shelf. Meanwhile you may use them but be sure to wash your hands after touching. Also don’t use the herbs uncooked. Hope this helps \\nHi ,\\nCan we use refined white sugar to proof the yeast?\\nBecause I don’t have organic sugar? Hi,\\nYes you can use any sweetener \\nHi with this recipe can I make 2 medium sized and 2 large sized pizza’s can I double the quantity is that enough?? Hi,\\nYou can make 3 to 4 medium and 2 large pizza (9 inch) \\nHi,\\nCan we use refined sugar?? yes you can use any sugar \\nCan we use rice flour to make the dough ? You can try 1.5 cups white rice flour, 1/2 cup tapioca starch/flour, 1/2 cup arrowroot powder and 1 tablespoon psyllium husk. Halve the recipe and try. Also make a thin crust for good results. \\nHello Swasthi,\\nToday We made pizza with your recipe. It came out so good and best than our previous attempts. Using perforated pizza pan was the most useful idea in your post. Didn’t have that so used a chalni. And kept it on the wire rack. Turned out crisp and great even without cornmeal. Thank you my boys loved it. It could be more helpful if you guide us regd the correct size and number of pizzas this recipe can make. Guys all of you must try with a chalni. The results are ultimate. Hi Rajiv\\nYou are welcome! So glad to know you all loved it. Yes I have updated the size & number of the pizzas. But the size depends on how thin one prefers. I think you will be able to judge it after making it a few times. Thank you so much for leaving a comment. \\nHello,\\nThank you so much for this wonderful recipe. My kids love pizza a lot and they love  the pizza I make at home. They say it’s better than store bought one. Weekend is our pizza day.?\\nYour chocolates ice cream is my kids favorite.\\nI also made pizza paratha and it’s yummy too. Whenever I want to try something new I just check your recipes.\\nSo happy that I found your site. I feel so happy when my kids appreciate what I make  for them. Can’t thank you enough. Hi Priya\\nYou are welcome! So happy to know your kids like them. Thank you so much for leaving a comment.\\n🙂 \\nHi. I made this yesterday again and this time the cheese layer was coming off when my kids try to eat. I am not sure if I used more cheese or sauce. Can you please help me. Hi Priya,\\nEither the sauce has more oil or more oil has been applied over the pizza base. If the sauce also has come off with the cheese it means more oil on the base. If only the cheese has separated without the sauce it means sauce has more oil. Hope this helps. Thank you so much for rating. \\nTried this today, with normal all purpose flour. Turned out very nice. Will try whole wheat next time. This is 2nd recipe from you we tried after eggless cake. Thank you 🙂 Welcome!\\nGlad to know it turned out good. Thank you so much for the comment! \\nVery good recipe !!Thankyou for sharing your knowledge. Thank you For how long can I store the pizza sauce in the fridge It keeps good for 3 weeks. \\n\\n\\n\\n\\n \\n\\n\\n\\n\\n \\n\\n\\n\\n\\n © 2012 - 2022 - Swasthi's Recipes® - indianhealthyrecipes.com . The content is copyrighted to SWASTHI'S RECIPES - indianhealthyrecipes.com and may not be reproduced in any form.\""
      ]
     },
     "execution_count": 26,
     "metadata": {},
     "output_type": "execute_result"
    }
   ],
   "source": [
    "article2"
   ]
  },
  {
   "cell_type": "code",
   "execution_count": 27,
   "id": "2df39492",
   "metadata": {
    "collapsed": true
   },
   "outputs": [
    {
     "data": {
      "text/plain": [
       "\" What is BBC Future? Future Planet Follow the Food Inner Space A Fair Climate Family Tree Best of BBC Future Food Fictions Towards Net Zero Latest More “You just won't believe how vastly, hugely, mind-bogglingly big space is,”said the author Douglas Adams. \\xa0“I mean, you may think it's a long way down the road to the chemist's, but that's just peanuts to space.” By our best estimates there are around 100 billion stars in the Milky Way and at least 140 billion galaxies across the Universe. If galaxies were frozen peas, there would be enough to fill an auditorium the size of the Royal Albert Hall. So how was this unimaginably giant Universe created? For centuries scientists thought the Universe always existed in a largely unchanged form, run like clockwork thanks to the laws of physics. But a Belgian priest and scientist called George Lemaitre put forward another idea. In 1927, he proposed that the Universe began as a large, pregnant and primeval atom, exploding and sending out the smaller atoms that we see today. His idea went largely unnoticed. But in 1929 astronomer Edwin Hubble discovered that the Universe isn’t static but is in fact expanding. If so, some scientists reasoned that if you rewound the Universe's life then at some point it should have existed as a tiny, dense point. Critics dismissed this: the celebrated astronomer Fred Hoyle sarcastically called this concept the “Big Bang” theory, a phrase that would later be adopted by its proponents. Undeterred by sceptics, scientists Ralph Alpher, George Gamow and Robert Herman predicted that if there had been a Big Bang, then a faint afterglow should linger somewhere in the Universe, and we should in theory be able to detect it. To do so would require one of the greatest pieces of fortune in science. In the mid-1960s Astronomers Arno Penzias and Robert Wilson were having a tough time trying to tune into the microwave signals transmitted from the Milky Way. The radio antenna they were using kept picking up a persistent weak hiss of radio noise. Rebuilding the antenna couldn’t get rid of the noise. Nor could clearing the pigeons that had roosted in there, or their mess. That’s because the hiss they tried so hard to remove was the echo of the Big Bang, or the Cosmic Microwave Background radiation as it is known. \\xa0 If the Big Bang theory is true, how did it lead to all the planets, stars and galaxies we can see today? Thanks to a series of calculations, observations from telescopes on Earth and probes in space, our best explanation is this. Around 13.8 billion years ago, all the matter in the Universe emerged from a single, minute point, or singularity, in a violent burst. This expanded at an astonishingly high rate and temperature, doubling in size every 10-34 seconds, creating space as it rapidly inflated. Within a tiny fraction of a second gravity and all the other forces were formed. Energy changed into particles of matter and antimatter, which largely destroyed each other. But luckily for us some matter survived. Protons and neutrons started to form within the first second; within minutes these protons and neutrons could fuse and form hydrogen and helium nuclei. After 300,000 years, nuclei could finally capture electrons to form atoms, filling the Universe with clouds of hydrogen and helium gas. After around 380,000 years it left behind a bath of photons – the Cosmic Microwave Background that Penzias and Wilson accidentally detected. Within this were tiny ripples of matter that were stretched to enormous sizes during inflation, and in turn these became the seeds for the galaxies and galactic clusters we see today. If this is how we think the Universe began, then how will it end? Well, that’s another story entirely. If you would like to comment on this, or anything else you have seen on Future, head over to our Facebook or Google+ page, or message us on Twitter.\""
      ]
     },
     "execution_count": 27,
     "metadata": {},
     "output_type": "execute_result"
    }
   ],
   "source": [
    "article3"
   ]
  },
  {
   "cell_type": "code",
   "execution_count": 16,
   "id": "3fedca1d",
   "metadata": {},
   "outputs": [],
   "source": [
    "# For method 2\n",
    "parser1 = HtmlParser.from_url(url1, Tokenizer(\"english\"))\n",
    "#parser2 = HtmlParser.from_url(url2, Tokenizer(\"english\"))\n",
    "#parser3 = HtmlParser.from_url(url3, Tokenizer(\"english\"))"
   ]
  },
  {
   "cell_type": "markdown",
   "id": "b293495d",
   "metadata": {},
   "source": [
    "## Method 1 - Performing abstractive summarization by creating chunks of text to pass into the pipeline"
   ]
  },
  {
   "cell_type": "markdown",
   "id": "dce5d81e",
   "metadata": {},
   "source": [
    "### Load the model"
   ]
  },
  {
   "cell_type": "code",
   "execution_count": 4,
   "id": "e21f67cf",
   "metadata": {},
   "outputs": [
    {
     "name": "stderr",
     "output_type": "stream",
     "text": [
      "No model was supplied, defaulted to t5-small (https://huggingface.co/t5-small)\n",
      "All model checkpoint layers were used when initializing TFT5ForConditionalGeneration.\n",
      "\n",
      "All the layers of TFT5ForConditionalGeneration were initialized from the model checkpoint at t5-small.\n",
      "If your task is similar to the task the model of the checkpoint was trained on, you can already use TFT5ForConditionalGeneration for predictions without further training.\n",
      "D:\\Anaconda\\lib\\site-packages\\transformers\\models\\t5\\tokenization_t5_fast.py:156: FutureWarning: This tokenizer was incorrectly instantiated with a model max length of 512 which will be corrected in Transformers v5.\n",
      "For now, this behavior is kept to avoid breaking backwards compatibility when padding/encoding with `truncation is True`.\n",
      "- Be aware that you SHOULD NOT rely on t5-small automatically truncating your input to 512 when padding/encoding.\n",
      "- If you want to encode/pad to sequences longer than 512 you can either instantiate this tokenizer with `model_max_length` or pass `max_length` when encoding/padding.\n",
      "- To avoid this warning, please instantiate this tokenizer with `model_max_length` set to your preferred value.\n",
      "  warnings.warn(\n"
     ]
    }
   ],
   "source": [
    "summarizer1 = pipeline(\"summarization\")"
   ]
  },
  {
   "cell_type": "markdown",
   "id": "1c86ed24",
   "metadata": {},
   "source": [
    "### Creating text chunks"
   ]
  },
  {
   "cell_type": "code",
   "execution_count": 68,
   "id": "320a5c3f",
   "metadata": {},
   "outputs": [],
   "source": [
    "# At a given point in time the pipeline can only take in 1024 unique tokens. This is the reason for creating text chunks.\n",
    "\n",
    "chunk_size = 500"
   ]
  },
  {
   "cell_type": "code",
   "execution_count": 49,
   "id": "c7855455",
   "metadata": {},
   "outputs": [
    {
     "ename": "NameError",
     "evalue": "name 'article1' is not defined",
     "output_type": "error",
     "traceback": [
      "\u001b[1;31m---------------------------------------------------------------------------\u001b[0m",
      "\u001b[1;31mNameError\u001b[0m                                 Traceback (most recent call last)",
      "\u001b[1;32m~\\AppData\\Local\\Temp/ipykernel_10228/296792553.py\u001b[0m in \u001b[0;36m<module>\u001b[1;34m\u001b[0m\n\u001b[0;32m      1\u001b[0m \u001b[1;31m# change article number as per requirement\u001b[0m\u001b[1;33m\u001b[0m\u001b[1;33m\u001b[0m\u001b[0m\n\u001b[0;32m      2\u001b[0m \u001b[1;33m\u001b[0m\u001b[0m\n\u001b[1;32m----> 3\u001b[1;33m \u001b[0marticle1\u001b[0m \u001b[1;33m=\u001b[0m \u001b[0marticle1\u001b[0m\u001b[1;33m.\u001b[0m\u001b[0mreplace\u001b[0m\u001b[1;33m(\u001b[0m\u001b[1;34m'.'\u001b[0m\u001b[1;33m,\u001b[0m \u001b[1;34m'.<eos>'\u001b[0m\u001b[1;33m)\u001b[0m\u001b[1;33m\u001b[0m\u001b[1;33m\u001b[0m\u001b[0m\n\u001b[0m\u001b[0;32m      4\u001b[0m \u001b[0marticle1\u001b[0m \u001b[1;33m=\u001b[0m \u001b[0marticle1\u001b[0m\u001b[1;33m.\u001b[0m\u001b[0mreplace\u001b[0m\u001b[1;33m(\u001b[0m\u001b[1;34m'?'\u001b[0m\u001b[1;33m,\u001b[0m \u001b[1;34m'?<eos>'\u001b[0m\u001b[1;33m)\u001b[0m\u001b[1;33m\u001b[0m\u001b[1;33m\u001b[0m\u001b[0m\n\u001b[0;32m      5\u001b[0m \u001b[0marticle1\u001b[0m \u001b[1;33m=\u001b[0m \u001b[0marticle1\u001b[0m\u001b[1;33m.\u001b[0m\u001b[0mreplace\u001b[0m\u001b[1;33m(\u001b[0m\u001b[1;34m'!'\u001b[0m\u001b[1;33m,\u001b[0m \u001b[1;34m'!<eos>'\u001b[0m\u001b[1;33m)\u001b[0m\u001b[1;33m\u001b[0m\u001b[1;33m\u001b[0m\u001b[0m\n",
      "\u001b[1;31mNameError\u001b[0m: name 'article1' is not defined"
     ]
    }
   ],
   "source": [
    "# change article number as per requirement\n",
    "\n",
    "article1 = article1.replace('.', '.<eos>')\n",
    "article1 = article1.replace('?', '?<eos>')\n",
    "article1 = article1.replace('!', '!<eos>')"
   ]
  },
  {
   "cell_type": "code",
   "execution_count": 69,
   "id": "7f3a9e73",
   "metadata": {},
   "outputs": [],
   "source": [
    "# For input text instead of website\n",
    "\n",
    "input_text = input_text.replace('.', '.<eos>')\n",
    "input_text = input_text.replace('?', '?<eos>')\n",
    "input_text = input_text.replace('!', '!<eos>')"
   ]
  },
  {
   "cell_type": "code",
   "execution_count": 70,
   "id": "1634342a",
   "metadata": {},
   "outputs": [
    {
     "name": "stdout",
     "output_type": "stream",
     "text": [
      "0\n"
     ]
    }
   ],
   "source": [
    "sentences = input_text.split('<eos>')\n",
    "current_chunk = 0 \n",
    "chunks = []\n",
    "for sentence in sentences:\n",
    "    if len(chunks) == current_chunk + 1: \n",
    "        if len(chunks[current_chunk]) + len(sentence.split(' ')) <= chunk_size:\n",
    "            chunks[current_chunk].extend(sentence.split(' '))\n",
    "        else:\n",
    "            current_chunk += 1\n",
    "            chunks.append(sentence.split(' '))\n",
    "    else:\n",
    "        print(current_chunk)\n",
    "        chunks.append(sentence.split(' '))\n",
    "\n",
    "for chunk_id in range(len(chunks)):\n",
    "    chunks[chunk_id] = ' '.join(chunks[chunk_id])"
   ]
  },
  {
   "cell_type": "code",
   "execution_count": 71,
   "id": "864c1277",
   "metadata": {},
   "outputs": [
    {
     "data": {
      "text/plain": [
       "1"
      ]
     },
     "execution_count": 71,
     "metadata": {},
     "output_type": "execute_result"
    }
   ],
   "source": [
    "# Total chunks created for give article\n",
    "len(chunks)"
   ]
  },
  {
   "cell_type": "code",
   "execution_count": 72,
   "id": "ce20aa30",
   "metadata": {},
   "outputs": [
    {
     "data": {
      "text/plain": [
       "179"
      ]
     },
     "execution_count": 72,
     "metadata": {},
     "output_type": "execute_result"
    }
   ],
   "source": [
    "len(chunks[0].split(' '))"
   ]
  },
  {
   "cell_type": "markdown",
   "id": "589b97c1",
   "metadata": {},
   "source": [
    "### Genetating summary"
   ]
  },
  {
   "cell_type": "code",
   "execution_count": null,
   "id": "c0506ef7",
   "metadata": {},
   "outputs": [],
   "source": [
    "result = summarizer1(chunks, max_length=200, min_length=70, do_sample=False)"
   ]
  },
  {
   "cell_type": "code",
   "execution_count": 55,
   "id": "ce4ae5b5",
   "metadata": {},
   "outputs": [
    {
     "data": {
      "text/plain": [
       "{'summary_text': 'the standard distinguishes sensing devices by its capabilities and roles in the network . a full-function device (FFD) is able to coordinate a network of devices . by using RFD and FFD devices, IEEE 802. 15. 4 can support network topologies such as peer-to-peer, star and cluster networks .'}"
      ]
     },
     "execution_count": 55,
     "metadata": {},
     "output_type": "execute_result"
    }
   ],
   "source": [
    "result[0]"
   ]
  },
  {
   "cell_type": "code",
   "execution_count": 65,
   "id": "ebdb61ab",
   "metadata": {},
   "outputs": [],
   "source": [
    "summary_text = ' '.join([summ['summary_text'] for summ in result])"
   ]
  },
  {
   "cell_type": "code",
   "execution_count": 66,
   "id": "12845047",
   "metadata": {},
   "outputs": [
    {
     "data": {
      "text/plain": [
       "'the current version of the IEEE 802. 15. 4 standard supports multi-hop communications using a technique originally proposed in form of the Time Synchronized Mesh Protocol (TMSP) [21] the TMSP protocol employs time synchronized frequency channel hopping to combat multipath fading and external interference, and is also the foundation of WirelessHART [19].'"
      ]
     },
     "execution_count": 66,
     "metadata": {},
     "output_type": "execute_result"
    }
   ],
   "source": [
    "summary_text"
   ]
  },
  {
   "cell_type": "markdown",
   "id": "396c08cb",
   "metadata": {},
   "source": [
    "### Checking the rogue_score"
   ]
  },
  {
   "cell_type": "code",
   "execution_count": 28,
   "id": "04724979",
   "metadata": {},
   "outputs": [],
   "source": [
    "rouge_score_method1 = load_metric(\"rouge\")"
   ]
  },
  {
   "cell_type": "code",
   "execution_count": 43,
   "id": "4b95ef9c",
   "metadata": {},
   "outputs": [],
   "source": [
    "scores = rouge_score_method1.compute(\n",
    "    predictions=[summary_text], references=[summary_input_text], use_aggregator=False\n",
    ")"
   ]
  },
  {
   "cell_type": "code",
   "execution_count": 44,
   "id": "3bef9fe4",
   "metadata": {},
   "outputs": [
    {
     "data": {
      "text/plain": [
       "{'rouge1': [Score(precision=0.43478260869565216, recall=0.47619047619047616, fmeasure=0.4545454545454545)],\n",
       " 'rouge2': [Score(precision=0.14705882352941177, recall=0.16129032258064516, fmeasure=0.15384615384615385)],\n",
       " 'rougeL': [Score(precision=0.2753623188405797, recall=0.30158730158730157, fmeasure=0.2878787878787879)],\n",
       " 'rougeLsum': [Score(precision=0.3333333333333333, recall=0.36507936507936506, fmeasure=0.3484848484848485)]}"
      ]
     },
     "execution_count": 44,
     "metadata": {},
     "output_type": "execute_result"
    }
   ],
   "source": [
    "scores"
   ]
  },
  {
   "cell_type": "markdown",
   "id": "c53771e9",
   "metadata": {},
   "source": [
    "## Method 2 - Performing extractive summarization then performing abstractive summatization on the result"
   ]
  },
  {
   "cell_type": "markdown",
   "id": "a832f88d",
   "metadata": {},
   "source": [
    "### Load the model"
   ]
  },
  {
   "cell_type": "code",
   "execution_count": 8,
   "id": "6a288c7d",
   "metadata": {},
   "outputs": [],
   "source": [
    "summarizer2 = TextRankSummarizer()"
   ]
  },
  {
   "cell_type": "markdown",
   "id": "e1f1e199",
   "metadata": {},
   "source": [
    "### Generating extractive summary"
   ]
  },
  {
   "cell_type": "code",
   "execution_count": 57,
   "id": "495e9465",
   "metadata": {},
   "outputs": [
    {
     "data": {
      "text/plain": [
       "126"
      ]
     },
     "execution_count": 57,
     "metadata": {},
     "output_type": "execute_result"
    }
   ],
   "source": [
    "len(article1.split('.'))"
   ]
  },
  {
   "cell_type": "code",
   "execution_count": 9,
   "id": "f39599f6",
   "metadata": {},
   "outputs": [
    {
     "ename": "AttributeError",
     "evalue": "'str' object has no attribute 'sentences'",
     "output_type": "error",
     "traceback": [
      "\u001b[1;31m---------------------------------------------------------------------------\u001b[0m",
      "\u001b[1;31mAttributeError\u001b[0m                            Traceback (most recent call last)",
      "\u001b[1;32m~\\AppData\\Local\\Temp/ipykernel_34020/1439792798.py\u001b[0m in \u001b[0;36m<module>\u001b[1;34m\u001b[0m\n\u001b[0;32m      1\u001b[0m \u001b[0mextractive_summary_text\u001b[0m \u001b[1;33m=\u001b[0m \u001b[1;34m''\u001b[0m\u001b[1;33m\u001b[0m\u001b[1;33m\u001b[0m\u001b[0m\n\u001b[1;32m----> 2\u001b[1;33m \u001b[1;32mfor\u001b[0m \u001b[0msentence\u001b[0m \u001b[1;32min\u001b[0m \u001b[0msummarizer2\u001b[0m\u001b[1;33m(\u001b[0m\u001b[0minput_text\u001b[0m\u001b[1;33m,\u001b[0m \u001b[1;36m50\u001b[0m\u001b[1;33m)\u001b[0m\u001b[1;33m:\u001b[0m \u001b[1;31m# Summary will containg 10 sentences\u001b[0m\u001b[1;33m\u001b[0m\u001b[1;33m\u001b[0m\u001b[0m\n\u001b[0m\u001b[0;32m      3\u001b[0m     \u001b[0mtemp\u001b[0m \u001b[1;33m=\u001b[0m \u001b[0msentence\u001b[0m\u001b[1;33m\u001b[0m\u001b[1;33m\u001b[0m\u001b[0m\n\u001b[0;32m      4\u001b[0m     \u001b[0mextractive_summary_text\u001b[0m \u001b[1;33m=\u001b[0m \u001b[0mextractive_summary_text\u001b[0m \u001b[1;33m+\u001b[0m \u001b[0mstr\u001b[0m\u001b[1;33m(\u001b[0m\u001b[0mtemp\u001b[0m\u001b[1;33m)\u001b[0m\u001b[1;33m\u001b[0m\u001b[1;33m\u001b[0m\u001b[0m\n",
      "\u001b[1;32mD:\\Anaconda\\lib\\site-packages\\sumy\\summarizers\\text_rank.py\u001b[0m in \u001b[0;36m__call__\u001b[1;34m(self, document, sentences_count)\u001b[0m\n\u001b[0;32m     35\u001b[0m     \u001b[1;32mdef\u001b[0m \u001b[0m__call__\u001b[0m\u001b[1;33m(\u001b[0m\u001b[0mself\u001b[0m\u001b[1;33m,\u001b[0m \u001b[0mdocument\u001b[0m\u001b[1;33m,\u001b[0m \u001b[0msentences_count\u001b[0m\u001b[1;33m)\u001b[0m\u001b[1;33m:\u001b[0m\u001b[1;33m\u001b[0m\u001b[1;33m\u001b[0m\u001b[0m\n\u001b[0;32m     36\u001b[0m         \u001b[0mself\u001b[0m\u001b[1;33m.\u001b[0m\u001b[0m_ensure_dependencies_installed\u001b[0m\u001b[1;33m(\u001b[0m\u001b[1;33m)\u001b[0m\u001b[1;33m\u001b[0m\u001b[1;33m\u001b[0m\u001b[0m\n\u001b[1;32m---> 37\u001b[1;33m         \u001b[1;32mif\u001b[0m \u001b[1;32mnot\u001b[0m \u001b[0mdocument\u001b[0m\u001b[1;33m.\u001b[0m\u001b[0msentences\u001b[0m\u001b[1;33m:\u001b[0m\u001b[1;33m\u001b[0m\u001b[1;33m\u001b[0m\u001b[0m\n\u001b[0m\u001b[0;32m     38\u001b[0m             \u001b[1;32mreturn\u001b[0m \u001b[1;33m(\u001b[0m\u001b[1;33m)\u001b[0m\u001b[1;33m\u001b[0m\u001b[1;33m\u001b[0m\u001b[0m\n\u001b[0;32m     39\u001b[0m \u001b[1;33m\u001b[0m\u001b[0m\n",
      "\u001b[1;31mAttributeError\u001b[0m: 'str' object has no attribute 'sentences'"
     ]
    }
   ],
   "source": [
    "extractive_summary_text = ''\n",
    "for sentence in summarizer2(input_text, 50): # Summary will containg 10 sentences \n",
    "    temp = sentence\n",
    "    extractive_summary_text = extractive_summary_text + str(temp)"
   ]
  },
  {
   "cell_type": "code",
   "execution_count": 82,
   "id": "3a6b0095",
   "metadata": {},
   "outputs": [
    {
     "data": {
      "text/plain": [
       "1162"
      ]
     },
     "execution_count": 82,
     "metadata": {},
     "output_type": "execute_result"
    }
   ],
   "source": [
    "len(extractive_summary_text.split(' '))"
   ]
  },
  {
   "cell_type": "markdown",
   "id": "9d42d212",
   "metadata": {},
   "source": [
    "### Generating abstractive summary"
   ]
  },
  {
   "cell_type": "code",
   "execution_count": 85,
   "id": "a14ee589",
   "metadata": {},
   "outputs": [],
   "source": [
    "summary = summarizer1(extractive_summary_text, max_length=500, min_length=30, do_sample=False)"
   ]
  },
  {
   "cell_type": "code",
   "execution_count": 86,
   "id": "cf161051",
   "metadata": {},
   "outputs": [
    {
     "data": {
      "text/plain": [
       "[{'summary_text': 'ethical hackers are the good guys of the hacking world, the ones who wear the \"white hat\" a career in ethical hacking can be an enticing prospect . you should be well-versed with LINUX as it gives them the power to utilize the open-source operating system Linux the way they desire .'}]"
      ]
     },
     "execution_count": 86,
     "metadata": {},
     "output_type": "execute_result"
    }
   ],
   "source": [
    "summary"
   ]
  },
  {
   "cell_type": "code",
   "execution_count": null,
   "id": "c55ffab0",
   "metadata": {},
   "outputs": [],
   "source": []
  }
 ],
 "metadata": {
  "kernelspec": {
   "display_name": "Python 3 (ipykernel)",
   "language": "python",
   "name": "python3"
  },
  "language_info": {
   "codemirror_mode": {
    "name": "ipython",
    "version": 3
   },
   "file_extension": ".py",
   "mimetype": "text/x-python",
   "name": "python",
   "nbconvert_exporter": "python",
   "pygments_lexer": "ipython3",
   "version": "3.9.7"
  }
 },
 "nbformat": 4,
 "nbformat_minor": 5
}
